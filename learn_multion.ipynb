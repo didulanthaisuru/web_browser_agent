{
 "cells": [
  {
   "cell_type": "markdown",
   "id": "e358af29",
   "metadata": {},
   "source": [
    "MultiOn Web AGent"
   ]
  },
  {
   "cell_type": "code",
   "execution_count": 1,
   "id": "894faa17",
   "metadata": {},
   "outputs": [],
   "source": [
    "import os\n",
    "from multion.client import MultiOn"
   ]
  },
  {
   "cell_type": "code",
   "execution_count": 2,
   "id": "8394f24a",
   "metadata": {},
   "outputs": [],
   "source": [
    "from utils import (get_multi_on_api_key,visualizeSession,MultiOnDemo,SessionManager,ImageUtils,display_step_header)"
   ]
  },
  {
   "cell_type": "code",
   "execution_count": 4,
   "id": "3fe9e305",
   "metadata": {},
   "outputs": [],
   "source": [
    "multion_api_key=get_multi_on_api_key()"
   ]
  },
  {
   "cell_type": "code",
   "execution_count": 5,
   "id": "62c4cb7c",
   "metadata": {},
   "outputs": [
    {
     "ename": "ApiError",
     "evalue": "status_code: None, body: The client must be instantiated be either passing in api_key or setting MULTION_API_KEY",
     "output_type": "error",
     "traceback": [
      "\u001b[31m---------------------------------------------------------------------------\u001b[39m",
      "\u001b[31mApiError\u001b[39m                                  Traceback (most recent call last)",
      "\u001b[36mCell\u001b[39m\u001b[36m \u001b[39m\u001b[32mIn[5]\u001b[39m\u001b[32m, line 1\u001b[39m\n\u001b[32m----> \u001b[39m\u001b[32m1\u001b[39m multion = \u001b[43mMultiOn\u001b[49m\u001b[43m(\u001b[49m\u001b[43mapi_key\u001b[49m\u001b[43m=\u001b[49m\u001b[43mmultion_api_key\u001b[49m\u001b[43m,\u001b[49m\u001b[43m \u001b[49m\u001b[43mbase_url\u001b[49m\u001b[43m=\u001b[49m\u001b[43mos\u001b[49m\u001b[43m.\u001b[49m\u001b[43mgetenv\u001b[49m\u001b[43m(\u001b[49m\u001b[33;43m\"\u001b[39;49m\u001b[33;43mDLAI_MULTION_BASE_URL\u001b[39;49m\u001b[33;43m\"\u001b[39;49m\u001b[43m)\u001b[49m\u001b[43m)\u001b[49m\n",
      "\u001b[36mFile \u001b[39m\u001b[32md:\\my_projects_new\\web_browser_agent\\web_agent_venv\\Lib\\site-packages\\multion\\client.py:55\u001b[39m, in \u001b[36mMultiOn.__init__\u001b[39m\u001b[34m(self, agentops_api_key, *args, **kwargs)\u001b[39m\n\u001b[32m     47\u001b[39m \u001b[38;5;129m@wraps_function\u001b[39m(BaseMultiOn.\u001b[34m__init__\u001b[39m)  \u001b[38;5;66;03m# type: ignore\u001b[39;00m\n\u001b[32m     48\u001b[39m \u001b[38;5;28;01mdef\u001b[39;00m\u001b[38;5;250m \u001b[39m\u001b[34m__init__\u001b[39m(\n\u001b[32m     49\u001b[39m     \u001b[38;5;28mself\u001b[39m,\n\u001b[32m   (...)\u001b[39m\u001b[32m     52\u001b[39m     **kwargs\n\u001b[32m     53\u001b[39m ):\n\u001b[32m---> \u001b[39m\u001b[32m55\u001b[39m     \u001b[38;5;28;43msuper\u001b[39;49m\u001b[43m(\u001b[49m\u001b[43m)\u001b[49m\u001b[43m.\u001b[49m\u001b[34;43m__init__\u001b[39;49m\u001b[43m(\u001b[49m\u001b[43m*\u001b[49m\u001b[43margs\u001b[49m\u001b[43m,\u001b[49m\u001b[43m \u001b[49m\u001b[43m*\u001b[49m\u001b[43m*\u001b[49m\u001b[43mkwargs\u001b[49m\u001b[43m)\u001b[49m\n\u001b[32m     56\u001b[39m     \u001b[38;5;28mself\u001b[39m._agentops_api_key = agentops_api_key\n\u001b[32m     58\u001b[39m     \u001b[38;5;28mself\u001b[39m.sessions = WrappedSessionsClient(\n\u001b[32m     59\u001b[39m         client_wrapper=\u001b[38;5;28mself\u001b[39m._client_wrapper, use_agentops=\u001b[38;5;28mself\u001b[39m._agentops_api_key \u001b[38;5;129;01mis\u001b[39;00m \u001b[38;5;129;01mnot\u001b[39;00m \u001b[38;5;28;01mNone\u001b[39;00m)\n",
      "\u001b[36mFile \u001b[39m\u001b[32md:\\my_projects_new\\web_browser_agent\\web_agent_venv\\Lib\\site-packages\\multion\\base_client.py:83\u001b[39m, in \u001b[36mBaseMultiOn.__init__\u001b[39m\u001b[34m(self, base_url, environment, api_key, timeout, follow_redirects, httpx_client)\u001b[39m\n\u001b[32m     81\u001b[39m _defaulted_timeout = timeout \u001b[38;5;28;01mif\u001b[39;00m timeout \u001b[38;5;129;01mis\u001b[39;00m \u001b[38;5;129;01mnot\u001b[39;00m \u001b[38;5;28;01mNone\u001b[39;00m \u001b[38;5;28;01melse\u001b[39;00m \u001b[32m180\u001b[39m \u001b[38;5;28;01mif\u001b[39;00m httpx_client \u001b[38;5;129;01mis\u001b[39;00m \u001b[38;5;28;01mNone\u001b[39;00m \u001b[38;5;28;01melse\u001b[39;00m \u001b[38;5;28;01mNone\u001b[39;00m\n\u001b[32m     82\u001b[39m \u001b[38;5;28;01mif\u001b[39;00m api_key \u001b[38;5;129;01mis\u001b[39;00m \u001b[38;5;28;01mNone\u001b[39;00m:\n\u001b[32m---> \u001b[39m\u001b[32m83\u001b[39m     \u001b[38;5;28;01mraise\u001b[39;00m ApiError(\n\u001b[32m     84\u001b[39m         body=\u001b[33m\"\u001b[39m\u001b[33mThe client must be instantiated be either passing in api_key or setting MULTION_API_KEY\u001b[39m\u001b[33m\"\u001b[39m\n\u001b[32m     85\u001b[39m     )\n\u001b[32m     86\u001b[39m \u001b[38;5;28mself\u001b[39m._client_wrapper = SyncClientWrapper(\n\u001b[32m     87\u001b[39m     base_url=_get_base_url(base_url=base_url, environment=environment),\n\u001b[32m     88\u001b[39m     api_key=api_key,\n\u001b[32m   (...)\u001b[39m\u001b[32m     94\u001b[39m     timeout=_defaulted_timeout,\n\u001b[32m     95\u001b[39m )\n\u001b[32m     96\u001b[39m \u001b[38;5;28mself\u001b[39m.sessions = SessionsClient(client_wrapper=\u001b[38;5;28mself\u001b[39m._client_wrapper)\n",
      "\u001b[31mApiError\u001b[39m: status_code: None, body: The client must be instantiated be either passing in api_key or setting MULTION_API_KEY"
     ]
    }
   ],
   "source": [
    "multion = MultiOn(api_key=multion_api_key, base_url=os.getenv(\"DLAI_MULTION_BASE_URL\"))"
   ]
  },
  {
   "cell_type": "code",
   "execution_count": null,
   "id": "9362eadd",
   "metadata": {},
   "outputs": [],
   "source": []
  }
 ],
 "metadata": {
  "kernelspec": {
   "display_name": "web_agent_venv",
   "language": "python",
   "name": "python3"
  },
  "language_info": {
   "codemirror_mode": {
    "name": "ipython",
    "version": 3
   },
   "file_extension": ".py",
   "mimetype": "text/x-python",
   "name": "python",
   "nbconvert_exporter": "python",
   "pygments_lexer": "ipython3",
   "version": "3.12.4"
  }
 },
 "nbformat": 4,
 "nbformat_minor": 5
}

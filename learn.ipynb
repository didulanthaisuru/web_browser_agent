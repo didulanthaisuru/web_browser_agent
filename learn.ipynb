{
 "cells": [
  {
   "cell_type": "code",
   "execution_count": 8,
   "id": "02d63f3d",
   "metadata": {},
   "outputs": [],
   "source": [
    "import asyncio\n",
    "import json\n",
    "import os\n",
    "import nest_asyncio\n",
    "import pprint \n",
    "import base64\n",
    "from io import BytesIO\n",
    "from playwright.async_api import async_playwright\n",
    "import google.generativeai as genai\n",
    "#import tubulate\n",
    "from PIL import Image\n",
    "from IPython.display import display, HTML,Markdown\n",
    "from pydantic import BaseModel\n",
    "from helper import get_openai_api_key,visualizeCourses,get_openai_client"
   ]
  },
  {
   "cell_type": "code",
   "execution_count": 10,
   "id": "e62b83f1",
   "metadata": {},
   "outputs": [
    {
     "name": "stdout",
     "output_type": "stream",
     "text": [
      "Imagine you have a really smart dog.  You teach it tricks by showing it examples and rewarding good behavior.  AI is kind of like that, but instead of a dog, it's a computer program.\n",
      "\n",
      "We \"teach\" the computer program by showing it lots of examples – like pictures of cats and dogs to teach it the difference.  The program then learns patterns and rules from these examples so it can identify new pictures of cats and dogs it's never seen before.\n",
      "\n",
      "AI can do much more than just identify pictures. It can:\n",
      "\n",
      "* **Understand language:**  Like Siri or Alexa understanding your voice commands.\n",
      "* **Play games:**  Like chess or Go, sometimes even better than humans.\n",
      "* **Recommend things:** Like movies or products you might like based on your past choices.\n",
      "* **Drive cars:**  Self-driving cars use AI to navigate roads and avoid obstacles.\n",
      "\n",
      "Basically, AI is about making computers smarter and able to do things that usually require human intelligence.  It's not actually \"thinking\" like a human, but it can solve problems and learn from experience.\n",
      "\n"
     ]
    }
   ],
   "source": [
    "client = get_openai_client()\n",
    "nest_asyncio.apply()\n",
    "\n",
    "response = client.generate_content(\"Explain AI in simple terms.\")\n",
    "print(response.text)"
   ]
  },
  {
   "cell_type": "markdown",
   "id": "1a8427da",
   "metadata": {},
   "source": [
    "WebScraper Agent"
   ]
  },
  {
   "cell_type": "code",
   "execution_count": 12,
   "id": "8274a189",
   "metadata": {},
   "outputs": [],
   "source": [
    "class WebScraperAgent:\n",
    "    def __init__(self):\n",
    "        self.playwright = None\n",
    "        self.browser = None\n",
    "        self.page = None\n",
    "\n",
    "    async def init_browser(self):\n",
    "        self.playwright = await async_playwright().start()\n",
    "        self.browser = await self.playwright.chromium.launch(\n",
    "            headless=True,\n",
    "            args=[\n",
    "                \"--disable-dev-shm-usage\",\n",
    "                \"--no-sandbox\",\n",
    "                \"--disable-setuid-sandbox\",\n",
    "                \"--disable-accelerated-2d-canvas\",\n",
    "                \"--disable-gpu\",\n",
    "                \"--no-zygote\",\n",
    "                \"--disable-audio-output\",\n",
    "                \"--disable-software-rasterizer\",\n",
    "                \"--disable-webgl\",\n",
    "                \"--disable-web-security\",\n",
    "                \"--disable-features=LazyFrameLoading\",\n",
    "                \"--disable-features=IsolateOrigins\",\n",
    "                \"--disable-background-networking\"\n",
    "\n",
    "            ]\n",
    "        )\n",
    "        self.page = await self.browser.new_page()\n",
    "\n",
    "    async def scrape_content(self, url):\n",
    "        if not self.page or self.page.is_closed():\n",
    "            await self.init_browser()\n",
    "        await self.page.goto(url,wait_untill=\"load\")\n",
    "        await self.page.wait_for_timeout(2000)\n",
    "        return await self.page.content()\n",
    "    \n",
    "    async def take_screenshot(self, path=\"screenshot.png\"):\n",
    "        await self.page.screenshot(path=path,full_page=True)\n",
    "        return path\n",
    "    \n",
    "    async def screenshot_buffer(self):\n",
    "        screenshot_bytes=await self.page.screenshot(type=\"png\",full_page=False)\n",
    "        return screenshot_bytes\n",
    "    \n",
    "    async def close(self ):\n",
    "        await self.browser.close()\n",
    "        await self.playwright.stop()\n",
    "        self.playwright=None\n",
    "        self.browser=None\n",
    "        self.page=None\n",
    "\n"
   ]
  },
  {
   "cell_type": "code",
   "execution_count": null,
   "id": "a7bf23af",
   "metadata": {},
   "outputs": [],
   "source": []
  }
 ],
 "metadata": {
  "kernelspec": {
   "display_name": "web_agent_venv",
   "language": "python",
   "name": "python3"
  },
  "language_info": {
   "codemirror_mode": {
    "name": "ipython",
    "version": 3
   },
   "file_extension": ".py",
   "mimetype": "text/x-python",
   "name": "python",
   "nbconvert_exporter": "python",
   "pygments_lexer": "ipython3",
   "version": "3.12.4"
  }
 },
 "nbformat": 4,
 "nbformat_minor": 5
}

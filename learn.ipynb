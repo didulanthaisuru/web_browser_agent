{
 "cells": [
  {
   "cell_type": "code",
   "execution_count": 8,
   "id": "02d63f3d",
   "metadata": {},
   "outputs": [],
   "source": [
    "import asyncio\n",
    "import json\n",
    "import os\n",
    "import nest_asyncio\n",
    "import pprint \n",
    "import base64\n",
    "from io import BytesIO\n",
    "from playwright.async_api import async_playwright\n",
    "import google.generativeai as genai\n",
    "#import tubulate\n",
    "from PIL import Image\n",
    "from IPython.display import display, HTML,Markdown\n",
    "from pydantic import BaseModel\n",
    "from helper import get_openai_api_key,visualizeCourses,get_openai_client"
   ]
  },
  {
   "cell_type": "code",
   "execution_count": 9,
   "id": "e62b83f1",
   "metadata": {},
   "outputs": [
    {
     "name": "stdout",
     "output_type": "stream",
     "text": [
      "Imagine you're teaching a dog a trick. You show it what to do, reward it when it gets it right, and correct it when it's wrong.  Eventually, the dog learns the trick.\n",
      "\n",
      "AI is kind of like that, but instead of a dog, it's a computer program.  We \"teach\" the computer by giving it lots of examples (like showing the dog the trick). The computer then learns to identify patterns and make predictions or decisions based on those patterns, without being explicitly programmed for every single situation.\n",
      "\n",
      "So, AI is basically about making computers smart enough to learn and solve problems like humans do, but often much faster and at a much larger scale.  It can do things like:\n",
      "\n",
      "* **Recognize faces in photos.**\n",
      "* **Translate languages.**\n",
      "* **Recommend movies you might like.**\n",
      "* **Drive cars (self-driving cars).**\n",
      "* **Play games like chess or Go.**\n",
      "\n",
      "It's not magic, just clever programming and a lot of data.\n",
      "\n"
     ]
    }
   ],
   "source": [
    "client = get_openai_client()\n",
    "\n",
    "response = client.generate_content(\"Explain AI in simple terms.\")\n",
    "print(response.text)"
   ]
  },
  {
   "cell_type": "code",
   "execution_count": null,
   "id": "95060412",
   "metadata": {},
   "outputs": [],
   "source": []
  }
 ],
 "metadata": {
  "kernelspec": {
   "display_name": "web_agent_venv",
   "language": "python",
   "name": "python3"
  },
  "language_info": {
   "codemirror_mode": {
    "name": "ipython",
    "version": 3
   },
   "file_extension": ".py",
   "mimetype": "text/x-python",
   "name": "python",
   "nbconvert_exporter": "python",
   "pygments_lexer": "ipython3",
   "version": "3.12.4"
  }
 },
 "nbformat": 4,
 "nbformat_minor": 5
}

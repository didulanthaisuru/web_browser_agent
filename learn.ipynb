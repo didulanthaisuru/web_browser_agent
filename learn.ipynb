{
 "cells": [
  {
   "cell_type": "code",
   "execution_count": 1,
   "id": "02d63f3d",
   "metadata": {},
   "outputs": [
    {
     "name": "stderr",
     "output_type": "stream",
     "text": [
      "d:\\my_projects_new\\web_browser_agent\\web_agent_venv\\Lib\\site-packages\\tqdm\\auto.py:21: TqdmWarning: IProgress not found. Please update jupyter and ipywidgets. See https://ipywidgets.readthedocs.io/en/stable/user_install.html\n",
      "  from .autonotebook import tqdm as notebook_tqdm\n"
     ]
    },
    {
     "name": "stdout",
     "output_type": "stream",
     "text": [
      "work\n"
     ]
    }
   ],
   "source": [
    "import asyncio\n",
    "import json\n",
    "import os\n",
    "import nest_asyncio\n",
    "import pprint \n",
    "import base64\n",
    "from io import BytesIO\n",
    "from playwright.async_api import async_playwright\n",
    "import google.generativeai as genai\n",
    "#import tubulate\n",
    "from PIL import Image\n",
    "from IPython.display import display, HTML,Markdown\n",
    "from pydantic import BaseModel\n",
    "from helper import get_openai_api_key,visualizeCourses,get_openai_client"
   ]
  },
  {
   "cell_type": "code",
   "execution_count": 17,
   "id": "e62b83f1",
   "metadata": {},
   "outputs": [
    {
     "name": "stdout",
     "output_type": "stream",
     "text": [
      "Imagine you're teaching a dog a trick.  You show it what to do, reward it when it gets it right, and correct it when it's wrong.  Eventually, the dog learns the trick.\n",
      "\n",
      "AI is similar.  We \"teach\" computers to do things by showing them lots of examples and giving them feedback.  Instead of treats, we use data.  The computer learns patterns and rules from that data, and then uses those patterns to make decisions or predictions on its own, like recognizing faces in a photo or translating languages.\n",
      "\n",
      "It's not actually \"thinking\" like a human, but it can appear that way because it can solve problems and learn from experience.  Think of it as a really smart calculator that can learn and adapt.\n",
      "\n"
     ]
    }
   ],
   "source": [
    "client = get_openai_client()\n",
    "nest_asyncio.apply()\n",
    "\n",
    "response = client.generate_content(\"Explain AI in simple terms.\")\n",
    "print(response.text)"
   ]
  },
  {
   "cell_type": "markdown",
   "id": "1a8427da",
   "metadata": {},
   "source": [
    "WebScraper Agent"
   ]
  },
  {
   "cell_type": "code",
   "execution_count": 18,
   "id": "8274a189",
   "metadata": {},
   "outputs": [],
   "source": [
    "class WebScraperAgent:\n",
    "    def __init__(self):\n",
    "        self.playwright = None\n",
    "        self.browser = None\n",
    "        self.page = None\n",
    "        # Apply nest_asyncio to handle async in Jupyter\n",
    "        nest_asyncio.apply()\n",
    "\n",
    "    async def init_browser(self):\n",
    "        self.playwright = await async_playwright().start()\n",
    "        self.browser = await self.playwright.chromium.launch(\n",
    "            headless=True,\n",
    "            args=[\n",
    "                \"--disable-dev-shm-usage\",\n",
    "                \"--no-sandbox\",\n",
    "                \"--disable-setuid-sandbox\",\n",
    "                \"--disable-accelerated-2d-canvas\",\n",
    "                \"--disable-gpu\",\n",
    "                \"--no-zygote\",\n",
    "                \"--disable-audio-output\",\n",
    "                \"--disable-software-rasterizer\",\n",
    "                \"--disable-webgl\",\n",
    "                \"--disable-web-security\",\n",
    "                \"--disable-features=LazyFrameLoading\",\n",
    "                \"--disable-features=IsolateOrigins\",\n",
    "                \"--disable-background-networking\"\n",
    "\n",
    "            ]\n",
    "        )\n",
    "        self.page = await self.browser.new_page()\n",
    "\n",
    "    async def scrape_content(self, url):\n",
    "        if not self.page or self.page.is_closed():\n",
    "            await self.init_browser()\n",
    "        await self.page.goto(url, wait_until=\"load\")\n",
    "        await self.page.wait_for_timeout(2000)\n",
    "        return await self.page.content()\n",
    "    \n",
    "    async def take_screenshot(self, path=\"screenshot.png\"):\n",
    "        await self.page.screenshot(path=path, full_page=True)\n",
    "        return path\n",
    "    \n",
    "    async def screenshot_buffer(self):\n",
    "        screenshot_bytes = await self.page.screenshot(type=\"png\", full_page=False)\n",
    "        return screenshot_bytes\n",
    "    \n",
    "    async def close(self):\n",
    "        try:\n",
    "            if self.browser:\n",
    "                await self.browser.close()\n",
    "        except Exception as e:\n",
    "            print(f\"Warning: Error closing browser: {e}\")\n",
    "        \n",
    "        try:\n",
    "            if self.playwright:\n",
    "                await self.playwright.stop()\n",
    "        except Exception as e:\n",
    "            print(f\"Warning: Error stopping playwright: {e}\")\n",
    "        \n",
    "        self.playwright = None\n",
    "        self.browser = None\n",
    "        self.page = None"
   ]
  },
  {
   "cell_type": "code",
   "execution_count": 19,
   "id": "80d6ada5",
   "metadata": {},
   "outputs": [],
   "source": [
    "scraper = WebScraperAgent()"
   ]
  },
  {
   "cell_type": "markdown",
   "id": "b2d17324",
   "metadata": {},
   "source": [
    "Structured data format"
   ]
  },
  {
   "cell_type": "code",
   "execution_count": 35,
   "id": "a86c5665",
   "metadata": {},
   "outputs": [],
   "source": [
    "from typing import Optional, List\n",
    "\n",
    "class DeeplearningCourse(BaseModel):\n",
    "    title: str\n",
    "    description: str\n",
    "    presenter: Optional[List[str]] = []  # Optional list, defaults to empty\n",
    "    imageUrl: Optional[str] = None  # Made optional with default None\n",
    "    courseURL: str\n",
    "\n",
    "class DeeplearningCourseList(BaseModel):\n",
    "    courses: list[DeeplearningCourse]"
   ]
  },
  {
   "cell_type": "markdown",
   "id": "722abe90",
   "metadata": {},
   "source": [
    "LLM Client for Gemini Ai"
   ]
  },
  {
   "cell_type": "code",
   "execution_count": 13,
   "id": "ebd099aa",
   "metadata": {},
   "outputs": [],
   "source": [
    "async def process_with_llm(html, instructions, truncate=False):\n",
    "    prompt = f\"\"\"\n",
    "    You are an expert web scraping agent. Your task is to:\n",
    "    Extract relevant information from this HTML to JSON \n",
    "    following these instructions:\n",
    "    {instructions}\n",
    "    \n",
    "    Extract the title, description, presenter, \n",
    "    the image URL and course URL for each of \n",
    "    all the courses for the deeplearning.ai website\n",
    "\n",
    "    Return ONLY valid JSON in the following format:\n",
    "    {{\n",
    "        \"courses\": [\n",
    "            {{\n",
    "                \"title\": \"Course Title\",\n",
    "                \"description\": \"Course Description\", \n",
    "                \"presenter\": [\"Presenter Name\"],\n",
    "                \"imageUrl\": \"Image URL\",\n",
    "                \"courseURL\": \"Course URL\"\n",
    "            }}\n",
    "        ]\n",
    "    }}\n",
    "\n",
    "    HTML Content:\n",
    "    {html[:150000]}\n",
    "    \"\"\"\n",
    "    \n",
    "    response = client.generate_content(prompt)\n",
    "    \n",
    "    # Parse the JSON response\n",
    "    import json\n",
    "    try:\n",
    "        json_text = response.text.strip()\n",
    "        # Remove markdown code blocks if present\n",
    "        if json_text.startswith('```json'):\n",
    "            json_text = json_text[7:]\n",
    "        if json_text.endswith('```'):\n",
    "            json_text = json_text[:-3]\n",
    "        json_text = json_text.strip()\n",
    "        \n",
    "        parsed_data = json.loads(json_text)\n",
    "        return DeeplearningCourseList(**parsed_data)\n",
    "    except json.JSONDecodeError as e:\n",
    "        print(f\"JSON parsing error: {e}\")\n",
    "        print(f\"Response text: {response.text[:500]}...\")\n",
    "        return None"
   ]
  },
  {
   "cell_type": "code",
   "execution_count": 14,
   "id": "8fcfb6ee",
   "metadata": {},
   "outputs": [],
   "source": [
    "async def webscraper(target_url, instructions):\n",
    "    result = None\n",
    "    screenshot = None\n",
    "    try:\n",
    "        print(\"Extracting HTML Content\\n\")\n",
    "        html_content = await scraper.scrape_content(target_url)\n",
    "\n",
    "        print(\"Taking Screenshot \\n\")\n",
    "        screenshot = await scraper.screenshot_buffer()\n",
    "\n",
    "        print(\"Processing..\")\n",
    "        result: DeeplearningCourseList = await process_with_llm(html_content, instructions, False)\n",
    "        if result:\n",
    "            print(\"\\nGenerated Structured Response\")\n",
    "        else:\n",
    "            print(\"\\nFailed to generate structured response\")\n",
    "    except Exception as e:\n",
    "        print(f\"Error: {str(e)}\")\n",
    "    finally:\n",
    "        await scraper.close()\n",
    "    return result, screenshot"
   ]
  },
  {
   "cell_type": "markdown",
   "id": "f81dd337",
   "metadata": {},
   "source": [
    "examples"
   ]
  },
  {
   "cell_type": "code",
   "execution_count": 8,
   "id": "046bdf10",
   "metadata": {},
   "outputs": [],
   "source": [
    "target_url=\"https://www.deeplearning.ai/courses\"\n",
    "base_url=\"https://www.deeplearning.ai\""
   ]
  },
  {
   "cell_type": "code",
   "execution_count": 15,
   "id": "ae32bade",
   "metadata": {},
   "outputs": [
    {
     "name": "stdout",
     "output_type": "stream",
     "text": [
      "Extracting HTML Content\n",
      "\n",
      "Error: \n"
     ]
    }
   ],
   "source": [
    "instructions=\"\"\"Get all the courses\"\"\"\n",
    "result,screenshot = await webscraper(target_url,instructions)"
   ]
  },
  {
   "cell_type": "code",
   "execution_count": 22,
   "id": "443b7597",
   "metadata": {},
   "outputs": [
    {
     "name": "stdout",
     "output_type": "stream",
     "text": [
      "Extracting HTML Content with requests...\n",
      "HTML extracted, length: 106065\n",
      "Processing with LLM...\n",
      "\n",
      "Generated Structured Response\n",
      "\n",
      "Found 7 courses!\n",
      "\n",
      "1. AI Python for Beginners\n",
      "   Presenter: ['DeepLearning.AI']\n",
      "   URL: /courses/ai-python-for-beginners\n",
      "\n",
      "2. ChatGPT Prompt Engineering for Developers\n",
      "   Presenter: ['OpenAI']\n",
      "   URL: /courses/chatgpt-prompt-engineering-for-developers\n",
      "\n",
      "3. Generative AI for Everyone\n",
      "   Presenter: ['DeepLearning.AI']\n",
      "   URL: /courses/generative-ai-for-everyone\n"
     ]
    }
   ],
   "source": [
    "# Fix for Windows asyncio issues with Playwright\n",
    "import sys\n",
    "import platform\n",
    "\n",
    "if platform.system() == 'Windows':\n",
    "    # Set the event loop policy for Windows\n",
    "    if sys.version_info >= (3, 8):\n",
    "        asyncio.set_event_loop_policy(asyncio.WindowsProactorEventLoopPolicy())\n",
    "\n",
    "# Alternative: Let's try using requests and BeautifulSoup instead of Playwright for now\n",
    "import requests\n",
    "from bs4 import BeautifulSoup\n",
    "\n",
    "async def simple_webscraper(target_url, instructions):\n",
    "    result = None\n",
    "    screenshot = None\n",
    "    try:\n",
    "        print(\"Extracting HTML Content with requests...\")\n",
    "        \n",
    "        headers = {\n",
    "            'User-Agent': 'Mozilla/5.0 (Windows NT 10.0; Win64; x64) AppleWebKit/537.36 (KHTML, like Gecko) Chrome/91.0.4472.124 Safari/537.36'\n",
    "        }\n",
    "        \n",
    "        response = requests.get(target_url, headers=headers)\n",
    "        html_content = response.text\n",
    "        \n",
    "        print(f\"HTML extracted, length: {len(html_content)}\")\n",
    "        print(\"Processing with LLM...\")\n",
    "        \n",
    "        result: DeeplearningCourseList = await process_with_llm(html_content, instructions, False)\n",
    "        if result:\n",
    "            print(\"\\nGenerated Structured Response\")\n",
    "        else:\n",
    "            print(\"\\nFailed to generate structured response\")\n",
    "    except Exception as e:\n",
    "        print(f\"Error: {str(e)}\")\n",
    "        import traceback\n",
    "        traceback.print_exc()\n",
    "    \n",
    "    return result, screenshot\n",
    "\n",
    "# Test the simple scraper\n",
    "result, screenshot = await simple_webscraper(target_url, instructions)\n",
    "if result:\n",
    "    print(f\"\\nFound {len(result.courses)} courses!\")\n",
    "    for i, course in enumerate(result.courses[:3]):  # Show first 3 courses\n",
    "        print(f\"\\n{i+1}. {course.title}\")\n",
    "        print(f\"   Presenter: {course.presenter}\")\n",
    "        print(f\"   URL: {course.courseURL}\")\n",
    "else:\n",
    "    print(\"No courses found or parsing failed\")"
   ]
  },
  {
   "cell_type": "code",
   "execution_count": null,
   "id": "fd568b07",
   "metadata": {},
   "outputs": [
    {
     "name": "stdout",
     "output_type": "stream",
     "text": [
      "work\n"
     ]
    },
    {
     "data": {
      "text/markdown": [
       "### Scraped Course Data:"
      ],
      "text/plain": [
       "<IPython.core.display.Markdown object>"
      ]
     },
     "metadata": {},
     "output_type": "display_data"
    },
    {
     "data": {
      "text/html": [
       "<table style=\"border-collapse: collapse; width: 100%;\"><thead><tr><th style=\"border: 1px solid #dddddd; text-align: left; padding: 8px;\">title</th><th style=\"border: 1px solid #dddddd; text-align: left; padding: 8px;\">description</th><th style=\"border: 1px solid #dddddd; text-align: left; padding: 8px;\">presenter</th><th style=\"border: 1px solid #dddddd; text-align: left; padding: 8px;\">imageUrl</th><th style=\"border: 1px solid #dddddd; text-align: left; padding: 8px;\">courseURL</th></tr></thead><tbody><tr><td style=\"border: 1px solid #dddddd; text-align: left; padding: 8px;\">AI Python for Beginners</td><td style=\"border: 1px solid #dddddd; text-align: left; padding: 8px;\">Learn Python programming with AI assistance. Gain skills writing, testing, and debugging code efficiently, and create real-world AI applications.</td><td style=\"border: 1px solid #dddddd; text-align: left; padding: 8px;\">DeepLearning.AI</td><td style=\"border: 1px solid #dddddd; text-align: left; padding: 8px;\"><img src=\"https://home-wordpress.deeplearning.ai/wp-content/uploads/2024/08/Most-Popular-section-card-2.png\" alt=\"Course Image\" style=\"max-width:100px; height:auto;\"></td><td style=\"border: 1px solid #dddddd; text-align: left; padding: 8px;\"><a href=\"https://www.deeplearning.ai/courses/ai-python-for-beginners\" target=\"_blank\">AI Python for Beginners</a></td></tr><tr><td style=\"border: 1px solid #dddddd; text-align: left; padding: 8px;\">ChatGPT Prompt Engineering for Developers</td><td style=\"border: 1px solid #dddddd; text-align: left; padding: 8px;\">Learn the fundamentals of prompt engineering for ChatGPT. Learn effective prompting, and how to use LLMs for summarizing, inferring, transforming, and expanding.</td><td style=\"border: 1px solid #dddddd; text-align: left; padding: 8px;\">OpenAI</td><td style=\"border: 1px solid #dddddd; text-align: left; padding: 8px;\"><img src=\"https://home-wordpress.deeplearning.ai/wp-content/uploads/2023/04/chatgpt-prompt-for-engineering.png\" alt=\"Course Image\" style=\"max-width:100px; height:auto;\"></td><td style=\"border: 1px solid #dddddd; text-align: left; padding: 8px;\"><a href=\"https://www.deeplearning.ai/courses/chatgpt-prompt-engineering-for-developers\" target=\"_blank\">ChatGPT Prompt Engineering for Developers</a></td></tr><tr><td style=\"border: 1px solid #dddddd; text-align: left; padding: 8px;\">Generative AI for Everyone</td><td style=\"border: 1px solid #dddddd; text-align: left; padding: 8px;\">Learn how to use generative AI's capabilities & limitations. Get an overview of real-world examples, and impact on business & society for effective strategies.</td><td style=\"border: 1px solid #dddddd; text-align: left; padding: 8px;\">DeepLearning.AI</td><td style=\"border: 1px solid #dddddd; text-align: left; padding: 8px;\"><img src=\"https://home-wordpress.deeplearning.ai/wp-content/uploads/2023/10/GenAI4E_2x.png\" alt=\"Course Image\" style=\"max-width:100px; height:auto;\"></td><td style=\"border: 1px solid #dddddd; text-align: left; padding: 8px;\"><a href=\"https://www.deeplearning.ai/courses/generative-ai-for-everyone\" target=\"_blank\">Generative AI for Everyone</a></td></tr><tr><td style=\"border: 1px solid #dddddd; text-align: left; padding: 8px;\">Machine Learning Specialization</td><td style=\"border: 1px solid #dddddd; text-align: left; padding: 8px;\">Learn foundational AI concepts through an intuitive visual approach, then learn the code needed to implement the algorithms and math for ML.</td><td style=\"border: 1px solid #dddddd; text-align: left; padding: 8px;\">Stanford Online</td><td style=\"border: 1px solid #dddddd; text-align: left; padding: 8px;\"><img src=\"https://home-wordpress.deeplearning.ai/wp-content/uploads/2022/04/MLS-index-card_2x-1.png\" alt=\"Course Image\" style=\"max-width:100px; height:auto;\"></td><td style=\"border: 1px solid #dddddd; text-align: left; padding: 8px;\"><a href=\"https://www.deeplearning.ai/courses/machine-learning-specialization\" target=\"_blank\">Machine Learning Specialization</a></td></tr><tr><td style=\"border: 1px solid #dddddd; text-align: left; padding: 8px;\">Multi AI Agent Systems with crewAI</td><td style=\"border: 1px solid #dddddd; text-align: left; padding: 8px;\">Automate business workflows with multi-AI agent systems. Exceed the performance of prompting a single LLM by designing and prompting a team of AI agents through natural language.</td><td style=\"border: 1px solid #dddddd; text-align: left; padding: 8px;\">crewAI</td><td style=\"border: 1px solid #dddddd; text-align: left; padding: 8px;\"><img src=\"https://home-wordpress.deeplearning.ai/wp-content/uploads/2024/05/crewAI_2x.png\" alt=\"Course Image\" style=\"max-width:100px; height:auto;\"></td><td style=\"border: 1px solid #dddddd; text-align: left; padding: 8px;\"><a href=\"https://www.deeplearning.ai/courses/multi-ai-agent-systems-with-crewai\" target=\"_blank\">Multi AI Agent Systems with crewAI</a></td></tr><tr><td style=\"border: 1px solid #dddddd; text-align: left; padding: 8px;\">LangChain for LLM Application Development</td><td style=\"border: 1px solid #dddddd; text-align: left; padding: 8px;\">Use the powerful and extensible LangChain framework, using prompts, parsing, memory, chains, question answering, and agents.</td><td style=\"border: 1px solid #dddddd; text-align: left; padding: 8px;\">LangChain</td><td style=\"border: 1px solid #dddddd; text-align: left; padding: 8px;\"><img src=\"https://home-wordpress.deeplearning.ai/wp-content/uploads/2023/05/langchain-for-llm-application-development.png\" alt=\"Course Image\" style=\"max-width:100px; height:auto;\"></td><td style=\"border: 1px solid #dddddd; text-align: left; padding: 8px;\"><a href=\"https://www.deeplearning.ai/courses/langchain-for-llm-application-development\" target=\"_blank\">LangChain for LLM Application Development</a></td></tr><tr><td style=\"border: 1px solid #dddddd; text-align: left; padding: 8px;\">AI for Everyone</td><td style=\"border: 1px solid #dddddd; text-align: left; padding: 8px;\">Learn about AI technologies and how to use them. Examine AI's societal impact, and learn to navigate this technological shift.</td><td style=\"border: 1px solid #dddddd; text-align: left; padding: 8px;\">DeepLearning.AI</td><td style=\"border: 1px solid #dddddd; text-align: left; padding: 8px;\"><img src=\"https://home-wordpress.deeplearning.ai/wp-content/uploads/2020/12/AI4E_2x.png\" alt=\"Course Image\" style=\"max-width:100px; height:auto;\"></td><td style=\"border: 1px solid #dddddd; text-align: left; padding: 8px;\"><a href=\"https://www.deeplearning.ai/courses/ai-for-everyone\" target=\"_blank\">AI for Everyone</a></td></tr></tbody></table>"
      ],
      "text/plain": [
       "<IPython.core.display.HTML object>"
      ]
     },
     "metadata": {},
     "output_type": "display_data"
    },
    {
     "data": {
      "text/markdown": [
       "### No Screenshot Available"
      ],
      "text/plain": [
       "<IPython.core.display.Markdown object>"
      ]
     },
     "metadata": {},
     "output_type": "display_data"
    },
    {
     "data": {
      "text/markdown": [
       "Screenshot was not captured (using simple HTTP scraper instead of browser)."
      ],
      "text/plain": [
       "<IPython.core.display.Markdown object>"
      ]
     },
     "metadata": {},
     "output_type": "display_data"
    }
   ],
   "source": [
    "await visualizeCourses(result=result, \n",
    "                       screenshot=screenshot, \n",
    "                       target_url=target_url, \n",
    "                       instructions=instructions, \n",
    "                       base_url=base_url)"
   ]
  },
  {
   "cell_type": "code",
   "execution_count": 30,
   "id": "71df1578",
   "metadata": {},
   "outputs": [
    {
     "name": "stdout",
     "output_type": "stream",
     "text": [
      "Extracting HTML Content with requests...\n",
      "HTML extracted, length: 106151\n",
      "Processing with LLM...\n",
      "HTML extracted, length: 106151\n",
      "Processing with LLM...\n",
      "\n",
      "Generated Structured Response\n",
      "\n",
      "Generated Structured Response\n"
     ]
    }
   ],
   "source": [
    "subject = \"Retrieval Augmented Generation (RAG) \"\n",
    "\n",
    "instructions = f\"\"\"\n",
    "Read the description of the courses and only \n",
    "provide the three courses that are about {subject}. \n",
    "Make sure that we don't have any other\n",
    "cources in the output\n",
    "\"\"\"\n",
    "result, screenshot = await simple_webscraper(target_url, instructions)"
   ]
  },
  {
   "cell_type": "code",
   "execution_count": 32,
   "id": "a50de03a",
   "metadata": {},
   "outputs": [
    {
     "name": "stdout",
     "output_type": "stream",
     "text": [
      "Found 3 RAG-related courses:\n",
      "\n",
      "1. Retrieval Augmented Generation (RAG)\n",
      "   Description: Gain fundamental understanding and the practical knowledge to develop production-ready RAG applications, from architecture to deployment and evaluation.\n",
      "   Presenter: ['Zain Hasan']\n",
      "   URL: /courses/retrieval-augmented-generation-rag\n",
      "   Image URL: Not available\n",
      "\n",
      "2. ACP: Agent Communication Protocol\n",
      "   Description: Build agents that communicate and collaborate across different frameworks using ACP.\n",
      "   Presenter: ['Sandi Besen', 'Nicholas Renotte']\n",
      "   URL: /short-courses/acp-agent-communication-protocol\n",
      "   Image URL: Not available\n",
      "\n",
      "3. Orchestrating Workflows for GenAI Applications\n",
      "   Description: Turn your GenAI prototype into an automated pipeline using Apache Airflow\n",
      "   Presenter: ['Kenten Danas', 'Tamara Fingerlin']\n",
      "   URL: /short-courses/orchestrating-workflows-for-genai-applications\n",
      "   Image URL: Not available\n"
     ]
    },
    {
     "data": {
      "text/markdown": [
       "### Scraped Course Data:"
      ],
      "text/plain": [
       "<IPython.core.display.Markdown object>"
      ]
     },
     "metadata": {},
     "output_type": "display_data"
    },
    {
     "data": {
      "text/html": [
       "<table style=\"border-collapse: collapse; width: 100%;\"><thead><tr><th style=\"border: 1px solid #dddddd; text-align: left; padding: 8px;\">title</th><th style=\"border: 1px solid #dddddd; text-align: left; padding: 8px;\">description</th><th style=\"border: 1px solid #dddddd; text-align: left; padding: 8px;\">presenter</th><th style=\"border: 1px solid #dddddd; text-align: left; padding: 8px;\">imageUrl</th><th style=\"border: 1px solid #dddddd; text-align: left; padding: 8px;\">courseURL</th></tr></thead><tbody><tr><td style=\"border: 1px solid #dddddd; text-align: left; padding: 8px;\">Retrieval Augmented Generation (RAG)</td><td style=\"border: 1px solid #dddddd; text-align: left; padding: 8px;\">Gain fundamental understanding and the practical knowledge to develop production-ready RAG applications, from architecture to deployment and evaluation.</td><td style=\"border: 1px solid #dddddd; text-align: left; padding: 8px;\">Zain Hasan</td><td style=\"border: 1px solid #dddddd; text-align: left; padding: 8px;\"><img src=\"None\" alt=\"Course Image\" style=\"max-width:100px; height:auto;\"></td><td style=\"border: 1px solid #dddddd; text-align: left; padding: 8px;\"><a href=\"https://www.deeplearning.ai/courses/retrieval-augmented-generation-rag\" target=\"_blank\">Retrieval Augmented Generation (RAG)</a></td></tr><tr><td style=\"border: 1px solid #dddddd; text-align: left; padding: 8px;\">ACP: Agent Communication Protocol</td><td style=\"border: 1px solid #dddddd; text-align: left; padding: 8px;\">Build agents that communicate and collaborate across different frameworks using ACP.</td><td style=\"border: 1px solid #dddddd; text-align: left; padding: 8px;\">Sandi Besen, Nicholas Renotte</td><td style=\"border: 1px solid #dddddd; text-align: left; padding: 8px;\"><img src=\"None\" alt=\"Course Image\" style=\"max-width:100px; height:auto;\"></td><td style=\"border: 1px solid #dddddd; text-align: left; padding: 8px;\"><a href=\"https://www.deeplearning.ai/short-courses/acp-agent-communication-protocol\" target=\"_blank\">ACP: Agent Communication Protocol</a></td></tr><tr><td style=\"border: 1px solid #dddddd; text-align: left; padding: 8px;\">Orchestrating Workflows for GenAI Applications</td><td style=\"border: 1px solid #dddddd; text-align: left; padding: 8px;\">Turn your GenAI prototype into an automated pipeline using Apache Airflow</td><td style=\"border: 1px solid #dddddd; text-align: left; padding: 8px;\">Kenten Danas, Tamara Fingerlin</td><td style=\"border: 1px solid #dddddd; text-align: left; padding: 8px;\"><img src=\"None\" alt=\"Course Image\" style=\"max-width:100px; height:auto;\"></td><td style=\"border: 1px solid #dddddd; text-align: left; padding: 8px;\"><a href=\"https://www.deeplearning.ai/short-courses/orchestrating-workflows-for-genai-applications\" target=\"_blank\">Orchestrating Workflows for GenAI Applications</a></td></tr></tbody></table>"
      ],
      "text/plain": [
       "<IPython.core.display.HTML object>"
      ]
     },
     "metadata": {},
     "output_type": "display_data"
    },
    {
     "data": {
      "text/markdown": [
       "### No Screenshot Available"
      ],
      "text/plain": [
       "<IPython.core.display.Markdown object>"
      ]
     },
     "metadata": {},
     "output_type": "display_data"
    },
    {
     "data": {
      "text/markdown": [
       "Screenshot was not captured (using simple HTTP scraper instead of browser)."
      ],
      "text/plain": [
       "<IPython.core.display.Markdown object>"
      ]
     },
     "metadata": {},
     "output_type": "display_data"
    }
   ],
   "source": [
    "# Display the RAG-specific results\n",
    "if result:\n",
    "    print(f\"Found {len(result.courses)} RAG-related courses:\")\n",
    "    for i, course in enumerate(result.courses):\n",
    "        print(f\"\\n{i+1}. {course.title}\")\n",
    "        print(f\"   Description: {course.description}\")\n",
    "        print(f\"   Presenter: {course.presenter}\")\n",
    "        print(f\"   URL: {course.courseURL}\")\n",
    "        print(f\"   Image URL: {course.imageUrl or 'Not available'}\")\n",
    "    \n",
    "    # Visualize the RAG courses\n",
    "    await visualizeCourses(result=result, \n",
    "                           screenshot=screenshot, \n",
    "                           target_url=target_url, \n",
    "                           instructions=f\"RAG courses: {instructions}\", \n",
    "                           base_url=base_url)\n",
    "else:\n",
    "    print(\"No RAG courses found\")"
   ]
  },
  {
   "cell_type": "code",
   "execution_count": 36,
   "id": "308b29b7",
   "metadata": {},
   "outputs": [
    {
     "name": "stdout",
     "output_type": "stream",
     "text": [
      "Extracting HTML Content with requests...\n",
      "HTML extracted, length: 106151\n",
      "Processing with LLM...\n",
      "HTML extracted, length: 106151\n",
      "Processing with LLM...\n",
      "\n",
      "Generated Structured Response\n",
      "\n",
      "Generated Structured Response\n"
     ]
    }
   ],
   "source": [
    "subject = \"Retrieval Augmented Generation (RAG) \"\n",
    "instructions = f\"\"\"\n",
    "Can you get the summary of the top course on\n",
    "{subject} provide the learnings from it\n",
    "\"\"\"\n",
    "result, screenshot = await simple_webscraper(target_url, instructions)"
   ]
  },
  {
   "cell_type": "code",
   "execution_count": 37,
   "id": "a92b9617",
   "metadata": {},
   "outputs": [
    {
     "data": {
      "text/markdown": [
       "### Scraped Course Data:"
      ],
      "text/plain": [
       "<IPython.core.display.Markdown object>"
      ]
     },
     "metadata": {},
     "output_type": "display_data"
    },
    {
     "data": {
      "text/html": [
       "<table style=\"border-collapse: collapse; width: 100%;\"><thead><tr><th style=\"border: 1px solid #dddddd; text-align: left; padding: 8px;\">title</th><th style=\"border: 1px solid #dddddd; text-align: left; padding: 8px;\">description</th><th style=\"border: 1px solid #dddddd; text-align: left; padding: 8px;\">presenter</th><th style=\"border: 1px solid #dddddd; text-align: left; padding: 8px;\">imageUrl</th><th style=\"border: 1px solid #dddddd; text-align: left; padding: 8px;\">courseURL</th></tr></thead><tbody><tr><td style=\"border: 1px solid #dddddd; text-align: left; padding: 8px;\">AI Python for Beginners</td><td style=\"border: 1px solid #dddddd; text-align: left; padding: 8px;\">Learn Python programming with AI assistance. Gain skills writing, testing, and debugging code efficiently, and create real-world AI applications.</td><td style=\"border: 1px solid #dddddd; text-align: left; padding: 8px;\">DeepLearning.AI</td><td style=\"border: 1px solid #dddddd; text-align: left; padding: 8px;\"><img src=\"https://home-wordpress.deeplearning.ai/wp-content/uploads/2024/08/Most-Popular-section-card-2.png\" alt=\"Course Image\" style=\"max-width:100px; height:auto;\"></td><td style=\"border: 1px solid #dddddd; text-align: left; padding: 8px;\"><a href=\"https://www.deeplearning.ai/courses/ai-python-for-beginners\" target=\"_blank\">AI Python for Beginners</a></td></tr><tr><td style=\"border: 1px solid #dddddd; text-align: left; padding: 8px;\">ChatGPT Prompt Engineering for Developers</td><td style=\"border: 1px solid #dddddd; text-align: left; padding: 8px;\">Learn the fundamentals of prompt engineering for ChatGPT. Learn effective prompting, and how to use LLMs for summarizing, inferring, transforming, and expanding.</td><td style=\"border: 1px solid #dddddd; text-align: left; padding: 8px;\">OpenAI</td><td style=\"border: 1px solid #dddddd; text-align: left; padding: 8px;\"><img src=\"https://home-wordpress.deeplearning.ai/wp-content/uploads/2023/04/chatgpt-prompt-for-engineering.png\" alt=\"Course Image\" style=\"max-width:100px; height:auto;\"></td><td style=\"border: 1px solid #dddddd; text-align: left; padding: 8px;\"><a href=\"https://www.deeplearning.ai/courses/chatgpt-prompt-engineering-for-developers\" target=\"_blank\">ChatGPT Prompt Engineering for Developers</a></td></tr><tr><td style=\"border: 1px solid #dddddd; text-align: left; padding: 8px;\">Generative AI for Everyone</td><td style=\"border: 1px solid #dddddd; text-align: left; padding: 8px;\">Learn how to use generative AI's capabilities & limitations. Get an overview of real-world examples, and impact on business & society for effective strategies.</td><td style=\"border: 1px solid #dddddd; text-align: left; padding: 8px;\">DeepLearning.AI</td><td style=\"border: 1px solid #dddddd; text-align: left; padding: 8px;\"><img src=\"https://home-wordpress.deeplearning.ai/wp-content/uploads/2023/10/GenAI4E_2x.png\" alt=\"Course Image\" style=\"max-width:100px; height:auto;\"></td><td style=\"border: 1px solid #dddddd; text-align: left; padding: 8px;\"><a href=\"https://www.deeplearning.ai/courses/generative-ai-for-everyone\" target=\"_blank\">Generative AI for Everyone</a></td></tr><tr><td style=\"border: 1px solid #dddddd; text-align: left; padding: 8px;\">Machine Learning Specialization</td><td style=\"border: 1px solid #dddddd; text-align: left; padding: 8px;\">Learn foundational AI concepts through an intuitive visual approach, then learn the code needed to implement the algorithms and math for ML.</td><td style=\"border: 1px solid #dddddd; text-align: left; padding: 8px;\">Stanford Online</td><td style=\"border: 1px solid #dddddd; text-align: left; padding: 8px;\"><img src=\"https://home-wordpress.deeplearning.ai/wp-content/uploads/2022/04/MLS-index-card_2x-1.png\" alt=\"Course Image\" style=\"max-width:100px; height:auto;\"></td><td style=\"border: 1px solid #dddddd; text-align: left; padding: 8px;\"><a href=\"https://www.deeplearning.ai/courses/machine-learning-specialization\" target=\"_blank\">Machine Learning Specialization</a></td></tr><tr><td style=\"border: 1px solid #dddddd; text-align: left; padding: 8px;\">Multi AI Agent Systems with crewAI</td><td style=\"border: 1px solid #dddddd; text-align: left; padding: 8px;\">Automate business workflows with multi-AI agent systems. Exceed the performance of prompting a single LLM by designing and prompting a team of AI agents through natural language.</td><td style=\"border: 1px solid #dddddd; text-align: left; padding: 8px;\">crewAI</td><td style=\"border: 1px solid #dddddd; text-align: left; padding: 8px;\"><img src=\"https://home-wordpress.deeplearning.ai/wp-content/uploads/2024/05/crewAI_2x.png\" alt=\"Course Image\" style=\"max-width:100px; height:auto;\"></td><td style=\"border: 1px solid #dddddd; text-align: left; padding: 8px;\"><a href=\"https://www.deeplearning.ai/courses/multi-ai-agent-systems-with-crewai\" target=\"_blank\">Multi AI Agent Systems with crewAI</a></td></tr><tr><td style=\"border: 1px solid #dddddd; text-align: left; padding: 8px;\">LangChain for LLM Application Development</td><td style=\"border: 1px solid #dddddd; text-align: left; padding: 8px;\">Use the powerful and extensible LangChain framework, using prompts, parsing, memory, chains, question answering, and agents.</td><td style=\"border: 1px solid #dddddd; text-align: left; padding: 8px;\">LangChain</td><td style=\"border: 1px solid #dddddd; text-align: left; padding: 8px;\"><img src=\"https://home-wordpress.deeplearning.ai/wp-content/uploads/2023/05/langchain-for-llm-application-development.png\" alt=\"Course Image\" style=\"max-width:100px; height:auto;\"></td><td style=\"border: 1px solid #dddddd; text-align: left; padding: 8px;\"><a href=\"https://www.deeplearning.ai/courses/langchain-for-llm-application-development\" target=\"_blank\">LangChain for LLM Application Development</a></td></tr><tr><td style=\"border: 1px solid #dddddd; text-align: left; padding: 8px;\">AI for Everyone</td><td style=\"border: 1px solid #dddddd; text-align: left; padding: 8px;\">Learn about AI technologies and how to use them. Examine AI's societal impact, and learn to navigate this technological shift.</td><td style=\"border: 1px solid #dddddd; text-align: left; padding: 8px;\">DeepLearning.AI</td><td style=\"border: 1px solid #dddddd; text-align: left; padding: 8px;\"><img src=\"https://home-wordpress.deeplearning.ai/wp-content/uploads/2020/12/AI4E_2x.png\" alt=\"Course Image\" style=\"max-width:100px; height:auto;\"></td><td style=\"border: 1px solid #dddddd; text-align: left; padding: 8px;\"><a href=\"https://www.deeplearning.ai/courses/ai-for-everyone\" target=\"_blank\">AI for Everyone</a></td></tr></tbody></table>"
      ],
      "text/plain": [
       "<IPython.core.display.HTML object>"
      ]
     },
     "metadata": {},
     "output_type": "display_data"
    },
    {
     "data": {
      "text/markdown": [
       "### No Screenshot Available"
      ],
      "text/plain": [
       "<IPython.core.display.Markdown object>"
      ]
     },
     "metadata": {},
     "output_type": "display_data"
    },
    {
     "data": {
      "text/markdown": [
       "Screenshot was not captured (using simple HTTP scraper instead of browser)."
      ],
      "text/plain": [
       "<IPython.core.display.Markdown object>"
      ]
     },
     "metadata": {},
     "output_type": "display_data"
    }
   ],
   "source": [
    "await visualizeCourses(result=result,\n",
    "                       screenshot=screenshot,\n",
    "                       target_url=target_url,\n",
    "                       instructions=instructions,\n",
    "                       base_url=base_url)"
   ]
  },
  {
   "cell_type": "code",
   "execution_count": 38,
   "id": "b8a61d3b",
   "metadata": {},
   "outputs": [
    {
     "name": "stdout",
     "output_type": "stream",
     "text": [
      "Found 7 course(s) in the summary:\n",
      "\n",
      "1. AI Python for Beginners\n",
      "   Description: Learn Python programming with AI assistance. Gain skills writing, testing, and debugging code efficiently, and create real-world AI applications.\n",
      "   Presenter: ['DeepLearning.AI']\n",
      "   URL: /courses/ai-python-for-beginners\n",
      "   Image URL: https://home-wordpress.deeplearning.ai/wp-content/uploads/2024/08/Most-Popular-section-card-2.png\n",
      "--------------------------------------------------------------------------------\n",
      "\n",
      "2. ChatGPT Prompt Engineering for Developers\n",
      "   Description: Learn the fundamentals of prompt engineering for ChatGPT. Learn effective prompting, and how to use LLMs for summarizing, inferring, transforming, and expanding.\n",
      "   Presenter: ['OpenAI']\n",
      "   URL: /courses/chatgpt-prompt-engineering-for-developers\n",
      "   Image URL: https://home-wordpress.deeplearning.ai/wp-content/uploads/2023/04/chatgpt-prompt-for-engineering.png\n",
      "--------------------------------------------------------------------------------\n",
      "\n",
      "3. Generative AI for Everyone\n",
      "   Description: Learn how to use generative AI's capabilities & limitations. Get an overview of real-world examples, and impact on business & society for effective strategies.\n",
      "   Presenter: ['DeepLearning.AI']\n",
      "   URL: /courses/generative-ai-for-everyone\n",
      "   Image URL: https://home-wordpress.deeplearning.ai/wp-content/uploads/2023/10/GenAI4E_2x.png\n",
      "--------------------------------------------------------------------------------\n",
      "\n",
      "4. Machine Learning Specialization\n",
      "   Description: Learn foundational AI concepts through an intuitive visual approach, then learn the code needed to implement the algorithms and math for ML.\n",
      "   Presenter: ['Stanford Online']\n",
      "   URL: /courses/machine-learning-specialization\n",
      "   Image URL: https://home-wordpress.deeplearning.ai/wp-content/uploads/2022/04/MLS-index-card_2x-1.png\n",
      "--------------------------------------------------------------------------------\n",
      "\n",
      "5. Multi AI Agent Systems with crewAI\n",
      "   Description: Automate business workflows with multi-AI agent systems. Exceed the performance of prompting a single LLM by designing and prompting a team of AI agents through natural language.\n",
      "   Presenter: ['crewAI']\n",
      "   URL: /courses/multi-ai-agent-systems-with-crewai\n",
      "   Image URL: https://home-wordpress.deeplearning.ai/wp-content/uploads/2024/05/crewAI_2x.png\n",
      "--------------------------------------------------------------------------------\n",
      "\n",
      "6. LangChain for LLM Application Development\n",
      "   Description: Use the powerful and extensible LangChain framework, using prompts, parsing, memory, chains, question answering, and agents.\n",
      "   Presenter: ['LangChain']\n",
      "   URL: /courses/langchain-for-llm-application-development\n",
      "   Image URL: https://home-wordpress.deeplearning.ai/wp-content/uploads/2023/05/langchain-for-llm-application-development.png\n",
      "--------------------------------------------------------------------------------\n",
      "\n",
      "7. AI for Everyone\n",
      "   Description: Learn about AI technologies and how to use them. Examine AI's societal impact, and learn to navigate this technological shift.\n",
      "   Presenter: ['DeepLearning.AI']\n",
      "   URL: /courses/ai-for-everyone\n",
      "   Image URL: https://home-wordpress.deeplearning.ai/wp-content/uploads/2020/12/AI4E_2x.png\n",
      "--------------------------------------------------------------------------------\n"
     ]
    }
   ],
   "source": [
    "# Display the course summary results\n",
    "if result:\n",
    "    print(f\"Found {len(result.courses)} course(s) in the summary:\")\n",
    "    for i, course in enumerate(result.courses):\n",
    "        print(f\"\\n{i+1}. {course.title}\")\n",
    "        print(f\"   Description: {course.description}\")\n",
    "        print(f\"   Presenter: {course.presenter or 'Not specified'}\")\n",
    "        print(f\"   URL: {course.courseURL}\")\n",
    "        print(f\"   Image URL: {course.imageUrl or 'Not available'}\")\n",
    "        print(\"-\" * 80)\n",
    "else:\n",
    "    print(\"No course summary found\")"
   ]
  }
 ],
 "metadata": {
  "kernelspec": {
   "display_name": "web_agent_venv",
   "language": "python",
   "name": "python3"
  },
  "language_info": {
   "codemirror_mode": {
    "name": "ipython",
    "version": 3
   },
   "file_extension": ".py",
   "mimetype": "text/x-python",
   "name": "python",
   "nbconvert_exporter": "python",
   "pygments_lexer": "ipython3",
   "version": "3.12.4"
  }
 },
 "nbformat": 4,
 "nbformat_minor": 5
}

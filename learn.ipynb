{
 "cells": [
  {
   "cell_type": "code",
   "execution_count": 1,
   "id": "02d63f3d",
   "metadata": {},
   "outputs": [],
   "source": [
    "import asyncio\n",
    "import json\n",
    "import os\n",
    "import nest_asyncio\n",
    "import pprint \n",
    "import base64\n",
    "from io import BytesIO\n",
    "from playwright.async_api import async_playwright\n",
    "#import tubulate\n",
    "from PIL import Image\n",
    "from IPython.display import display, HTML,Markdown\n",
    "from pydantic import BaseModel\n",
    "#from helper import get_openai_api_key"
   ]
  },
  {
   "cell_type": "code",
   "execution_count": null,
   "id": "e62b83f1",
   "metadata": {},
   "outputs": [],
   "source": []
  }
 ],
 "metadata": {
  "kernelspec": {
   "display_name": "web_agent_venv",
   "language": "python",
   "name": "python3"
  },
  "language_info": {
   "codemirror_mode": {
    "name": "ipython",
    "version": 3
   },
   "file_extension": ".py",
   "mimetype": "text/x-python",
   "name": "python",
   "nbconvert_exporter": "python",
   "pygments_lexer": "ipython3",
   "version": "3.12.4"
  }
 },
 "nbformat": 4,
 "nbformat_minor": 5
}

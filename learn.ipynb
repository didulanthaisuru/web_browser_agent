{
 "cells": [
  {
   "cell_type": "code",
   "execution_count": 1,
   "id": "02d63f3d",
   "metadata": {},
   "outputs": [
    {
     "name": "stderr",
     "output_type": "stream",
     "text": [
      "d:\\my_projects_new\\web_browser_agent\\web_agent_venv\\Lib\\site-packages\\tqdm\\auto.py:21: TqdmWarning: IProgress not found. Please update jupyter and ipywidgets. See https://ipywidgets.readthedocs.io/en/stable/user_install.html\n",
      "  from .autonotebook import tqdm as notebook_tqdm\n"
     ]
    },
    {
     "name": "stdout",
     "output_type": "stream",
     "text": [
      "work\n"
     ]
    }
   ],
   "source": [
    "import asyncio\n",
    "import json\n",
    "import os\n",
    "import nest_asyncio\n",
    "import pprint \n",
    "import base64\n",
    "from io import BytesIO\n",
    "from playwright.async_api import async_playwright\n",
    "import google.generativeai as genai\n",
    "#import tubulate\n",
    "from PIL import Image\n",
    "from IPython.display import display, HTML,Markdown\n",
    "from pydantic import BaseModel\n",
    "from helper import get_openai_api_key,visualizeCourses,get_openai_client"
   ]
  },
  {
   "cell_type": "code",
   "execution_count": 2,
   "id": "e62b83f1",
   "metadata": {},
   "outputs": [
    {
     "name": "stdout",
     "output_type": "stream",
     "text": [
      "Imagine you have a really smart puppy.  You teach it tricks by showing it examples and rewarding good behavior.  AI is kind of like that, but instead of a puppy, it's a computer program.\n",
      "\n",
      "We \"teach\" the computer program by feeding it lots of data (like showing the puppy lots of examples).  The program learns patterns and rules from this data, and then uses those patterns to do things like:\n",
      "\n",
      "* **Understand speech:**  Like Siri or Alexa.\n",
      "* **Recognize images:** Like identifying your face in a photo.\n",
      "* **Translate languages:** Like Google Translate.\n",
      "* **Play games:** Like chess or Go.\n",
      "* **Recommend things:** Like movies or products.\n",
      "\n",
      "The computer doesn't *understand* things like a human does, it just gets really good at following patterns and making predictions based on the data it's been given.  It's constantly learning and improving as it gets more data.\n",
      "\n"
     ]
    }
   ],
   "source": [
    "client = get_openai_client()\n",
    "nest_asyncio.apply()\n",
    "\n",
    "response = client.generate_content(\"Explain AI in simple terms.\")\n",
    "print(response.text)"
   ]
  },
  {
   "cell_type": "markdown",
   "id": "1a8427da",
   "metadata": {},
   "source": [
    "WebScraper Agent"
   ]
  },
  {
   "cell_type": "code",
   "execution_count": 3,
   "id": "8274a189",
   "metadata": {},
   "outputs": [],
   "source": [
    "class WebScraperAgent:\n",
    "    def __init__(self):\n",
    "        self.playwright = None\n",
    "        self.browser = None\n",
    "        self.page = None\n",
    "\n",
    "    async def init_browser(self):\n",
    "        self.playwright = await async_playwright().start()\n",
    "        self.browser = await self.playwright.chromium.launch(\n",
    "            headless=True,\n",
    "            args=[\n",
    "                \"--disable-dev-shm-usage\",\n",
    "                \"--no-sandbox\",\n",
    "                \"--disable-setuid-sandbox\",\n",
    "                \"--disable-accelerated-2d-canvas\",\n",
    "                \"--disable-gpu\",\n",
    "                \"--no-zygote\",\n",
    "                \"--disable-audio-output\",\n",
    "                \"--disable-software-rasterizer\",\n",
    "                \"--disable-webgl\",\n",
    "                \"--disable-web-security\",\n",
    "                \"--disable-features=LazyFrameLoading\",\n",
    "                \"--disable-features=IsolateOrigins\",\n",
    "                \"--disable-background-networking\"\n",
    "\n",
    "            ]\n",
    "        )\n",
    "        self.page = await self.browser.new_page()\n",
    "\n",
    "    async def scrape_content(self, url):\n",
    "        if not self.page or self.page.is_closed():\n",
    "            await self.init_browser()\n",
    "        await self.page.goto(url,wait_untill=\"load\")\n",
    "        await self.page.wait_for_timeout(2000)\n",
    "        return await self.page.content()\n",
    "    \n",
    "    async def take_screenshot(self, path=\"screenshot.png\"):\n",
    "        await self.page.screenshot(path=path,full_page=True)\n",
    "        return path\n",
    "    \n",
    "    async def screenshot_buffer(self):\n",
    "        screenshot_bytes=await self.page.screenshot(type=\"png\",full_page=False)\n",
    "        return screenshot_bytes\n",
    "    \n",
    "    async def close(self ):\n",
    "        await self.browser.close()\n",
    "        await self.playwright.stop()\n",
    "        self.playwright=None\n",
    "        self.browser=None\n",
    "        self.page=None\n",
    "\n"
   ]
  },
  {
   "cell_type": "code",
   "execution_count": 4,
   "id": "80d6ada5",
   "metadata": {},
   "outputs": [],
   "source": [
    "scraper=WebScraperAgent()"
   ]
  },
  {
   "cell_type": "markdown",
   "id": "b2d17324",
   "metadata": {},
   "source": [
    "Structured data format"
   ]
  },
  {
   "cell_type": "code",
   "execution_count": 5,
   "id": "a86c5665",
   "metadata": {},
   "outputs": [],
   "source": [
    "class DeeplearningCourse(BaseModel):\n",
    "    title: str\n",
    "    description: str\n",
    "    presenter: list[str]\n",
    "    imageUrl:str\n",
    "    courseURL: str\n",
    "\n",
    "class DeeplearningCourseList(BaseModel):\n",
    "    courses: list[DeeplearningCourse]"
   ]
  },
  {
   "cell_type": "markdown",
   "id": "722abe90",
   "metadata": {},
   "source": [
    "LLM Client for Gemini Ai"
   ]
  },
  {
   "cell_type": "code",
   "execution_count": 6,
   "id": "ebd099aa",
   "metadata": {},
   "outputs": [],
   "source": [
    "async def process_with_llm(html, instructions,truncate=False):\n",
    "    completion = client.beta.chat.completions.parse(\n",
    "        model=\"gemini-1.5-flash\",\n",
    "        messages=[{\n",
    "            \"role\": \"system\",\n",
    "            \"content\": f\"\"\"\n",
    "            You are an expert web scraping agent. Your task is to:\n",
    "            Extract relevant information from this HTML to JSON \n",
    "            following these instructions:\n",
    "            {instructions}\n",
    "            \n",
    "            Extract the title, description, presenter, \n",
    "            the image URL and course URL for each of \n",
    "            all the courses for the deeplearning.ai website\n",
    "\n",
    "            Return ONLY valid JSON, no markdown or extra text.\"\"\"\n",
    "\n",
    "        },\n",
    "        {\n",
    "            \"role\": \"user\",\n",
    "            \"content\": html[:150000]  # Truncate to stay under token limits\n",
    "\n",
    "        }],\n",
    "        temperature=0.1,\n",
    "        response_format=DeeplearningCourseList,\n",
    "        )\n",
    "    return completion.choices[0].message.parsed\n"
   ]
  },
  {
   "cell_type": "code",
   "execution_count": 7,
   "id": "8fcfb6ee",
   "metadata": {},
   "outputs": [],
   "source": [
    "async def webscraper(target_url,instructions):\n",
    "    result=None\n",
    "    try:\n",
    "        print(\"Extracting HTML Content\\n\")\n",
    "        html_content = await scraper.scrape_content(target_url)\n",
    "\n",
    "        print(\"Taking Screensot \\n\")\n",
    "        screenshot = await scraper.screenshot_buffer()\n",
    "\n",
    "        print(\"Processing..\")\n",
    "        result: DeeplearningCourseList = await process_with_llm(html_content,instructions,False)\n",
    "        print(\"\\nGenerated Structured Response\")\n",
    "    except Exception as e:\n",
    "        print(f\"Error:{str(e)}\")\n",
    "    finally:\n",
    "        await scraper.close()\n",
    "    return result,screenshot"
   ]
  },
  {
   "cell_type": "code",
   "execution_count": null,
   "id": "046bdf10",
   "metadata": {},
   "outputs": [],
   "source": []
  }
 ],
 "metadata": {
  "kernelspec": {
   "display_name": "web_agent_venv",
   "language": "python",
   "name": "python3"
  },
  "language_info": {
   "codemirror_mode": {
    "name": "ipython",
    "version": 3
   },
   "file_extension": ".py",
   "mimetype": "text/x-python",
   "name": "python",
   "nbconvert_exporter": "python",
   "pygments_lexer": "ipython3",
   "version": "3.12.4"
  }
 },
 "nbformat": 4,
 "nbformat_minor": 5
}

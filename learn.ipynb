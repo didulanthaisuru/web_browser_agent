{
 "cells": [
  {
   "cell_type": "code",
   "execution_count": 8,
   "id": "02d63f3d",
   "metadata": {},
   "outputs": [],
   "source": [
    "import asyncio\n",
    "import json\n",
    "import os\n",
    "import nest_asyncio\n",
    "import pprint \n",
    "import base64\n",
    "from io import BytesIO\n",
    "from playwright.async_api import async_playwright\n",
    "import google.generativeai as genai\n",
    "#import tubulate\n",
    "from PIL import Image\n",
    "from IPython.display import display, HTML,Markdown\n",
    "from pydantic import BaseModel\n",
    "from helper import get_openai_api_key,visualizeCourses,get_openai_client"
   ]
  },
  {
   "cell_type": "code",
   "execution_count": 10,
   "id": "e62b83f1",
   "metadata": {},
   "outputs": [
    {
     "name": "stdout",
     "output_type": "stream",
     "text": [
      "Imagine you have a really smart dog.  You teach it tricks by showing it examples and rewarding good behavior.  AI is kind of like that, but instead of a dog, it's a computer program.\n",
      "\n",
      "We \"teach\" the computer program by showing it lots of examples – like pictures of cats and dogs to teach it the difference.  The program then learns patterns and rules from these examples so it can identify new pictures of cats and dogs it's never seen before.\n",
      "\n",
      "AI can do much more than just identify pictures. It can:\n",
      "\n",
      "* **Understand language:**  Like Siri or Alexa understanding your voice commands.\n",
      "* **Play games:**  Like chess or Go, sometimes even better than humans.\n",
      "* **Recommend things:** Like movies or products you might like based on your past choices.\n",
      "* **Drive cars:**  Self-driving cars use AI to navigate roads and avoid obstacles.\n",
      "\n",
      "Basically, AI is about making computers smarter and able to do things that usually require human intelligence.  It's not actually \"thinking\" like a human, but it can solve problems and learn from experience.\n",
      "\n"
     ]
    }
   ],
   "source": [
    "client = get_openai_client()\n",
    "nest_asyncio.apply()\n",
    "\n",
    "response = client.generate_content(\"Explain AI in simple terms.\")\n",
    "print(response.text)"
   ]
  },
  {
   "cell_type": "code",
   "execution_count": null,
   "id": "95060412",
   "metadata": {},
   "outputs": [],
   "source": []
  }
 ],
 "metadata": {
  "kernelspec": {
   "display_name": "web_agent_venv",
   "language": "python",
   "name": "python3"
  },
  "language_info": {
   "codemirror_mode": {
    "name": "ipython",
    "version": 3
   },
   "file_extension": ".py",
   "mimetype": "text/x-python",
   "name": "python",
   "nbconvert_exporter": "python",
   "pygments_lexer": "ipython3",
   "version": "3.12.4"
  }
 },
 "nbformat": 4,
 "nbformat_minor": 5
}
